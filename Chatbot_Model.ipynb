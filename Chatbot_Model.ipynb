{
 "cells": [
  {
   "cell_type": "markdown",
   "metadata": {
    "id": "UHNMSAHYhBhP",
    "papermill": {
     "duration": 0.02599,
     "end_time": "2020-12-30T08:25:40.273934",
     "exception": false,
     "start_time": "2020-12-30T08:25:40.247944",
     "status": "completed"
    },
    "tags": []
   },
   "source": [
    "## Seq2Seq Model"
   ]
  },
  {
   "cell_type": "code",
   "execution_count": 1,
   "metadata": {
    "execution": {
     "iopub.execute_input": "2020-12-30T08:25:40.321277Z",
     "iopub.status.busy": "2020-12-30T08:25:40.320480Z",
     "iopub.status.idle": "2020-12-30T08:25:41.761036Z",
     "shell.execute_reply": "2020-12-30T08:25:41.760289Z"
    },
    "id": "iJjq1EvsjTa0",
    "papermill": {
     "duration": 1.467506,
     "end_time": "2020-12-30T08:25:41.761183",
     "exception": false,
     "start_time": "2020-12-30T08:25:40.293677",
     "status": "completed"
    },
    "tags": []
   },
   "outputs": [],
   "source": [
    "# Load required packages\n",
    "import os\n",
    "import math\n",
    "import time\n",
    "import random\n",
    "\n",
    "import pandas as pd\n",
    "import numpy as np\n",
    "\n",
    "import torchtext\n",
    "import torch\n",
    "from torch import nn, optim\n",
    "\n",
    "\n",
    "from IPython.core.interactiveshell import InteractiveShell\n",
    "InteractiveShell.ast_node_interactivity = \"all\""
   ]
  },
  {
   "cell_type": "code",
   "execution_count": 2,
   "metadata": {
    "execution": {
     "iopub.execute_input": "2020-12-30T08:25:41.808766Z",
     "iopub.status.busy": "2020-12-30T08:25:41.807998Z",
     "iopub.status.idle": "2020-12-30T08:25:42.159487Z",
     "shell.execute_reply": "2020-12-30T08:25:42.158548Z"
    },
    "id": "tMmLWc8NpVA4",
    "papermill": {
     "duration": 0.377725,
     "end_time": "2020-12-30T08:25:42.159633",
     "exception": false,
     "start_time": "2020-12-30T08:25:41.781908",
     "status": "completed"
    },
    "tags": []
   },
   "outputs": [],
   "source": [
    "def seed_everything(seed_value):\n",
    "    random.seed(seed_value)\n",
    "    np.random.seed(seed_value)\n",
    "    torch.manual_seed(seed_value)\n",
    "    os.environ['PYTHONHASHSEED'] = str(seed_value)\n",
    "    \n",
    "    if torch.cuda.is_available(): \n",
    "        torch.cuda.manual_seed(seed_value)\n",
    "        torch.cuda.manual_seed_all(seed_value)\n",
    "        torch.backends.cudnn.deterministic = True\n",
    "        torch.backends.cudnn.benchmark = False\n",
    "        \n",
    "seed_everything(42)"
   ]
  },
  {
   "cell_type": "markdown",
   "metadata": {
    "id": "xBeeX143odJI",
    "papermill": {
     "duration": 0.023008,
     "end_time": "2020-12-30T08:25:42.206389",
     "exception": false,
     "start_time": "2020-12-30T08:25:42.183381",
     "status": "completed"
    },
    "tags": []
   },
   "source": [
    "### Read Dataset"
   ]
  },
  {
   "cell_type": "code",
   "execution_count": 3,
   "metadata": {
    "execution": {
     "iopub.execute_input": "2020-12-30T08:25:42.257422Z",
     "iopub.status.busy": "2020-12-30T08:25:42.256611Z",
     "iopub.status.idle": "2020-12-30T08:25:42.969393Z",
     "shell.execute_reply": "2020-12-30T08:25:42.968578Z"
    },
    "papermill": {
     "duration": 0.739768,
     "end_time": "2020-12-30T08:25:42.969549",
     "exception": false,
     "start_time": "2020-12-30T08:25:42.229781",
     "status": "completed"
    },
    "tags": []
   },
   "outputs": [
    {
     "name": "stdout",
     "output_type": "stream",
     "text": [
      "__notebook__.ipynb\r\n"
     ]
    }
   ],
   "source": [
    "!ls"
   ]
  },
  {
   "cell_type": "code",
   "execution_count": 4,
   "metadata": {
    "execution": {
     "iopub.execute_input": "2020-12-30T08:25:43.042812Z",
     "iopub.status.busy": "2020-12-30T08:25:43.041927Z",
     "iopub.status.idle": "2020-12-30T08:25:58.762386Z",
     "shell.execute_reply": "2020-12-30T08:25:58.761422Z"
    },
    "id": "yS_Uhi9RkFJ_",
    "outputId": "9eab0215-44ab-4b9c-fa15-532d59277090",
    "papermill": {
     "duration": 15.753146,
     "end_time": "2020-12-30T08:25:58.762493",
     "exception": false,
     "start_time": "2020-12-30T08:25:43.009347",
     "status": "completed"
    },
    "tags": []
   },
   "outputs": [
    {
     "data": {
      "text/html": [
       "<div>\n",
       "<style scoped>\n",
       "    .dataframe tbody tr th:only-of-type {\n",
       "        vertical-align: middle;\n",
       "    }\n",
       "\n",
       "    .dataframe tbody tr th {\n",
       "        vertical-align: top;\n",
       "    }\n",
       "\n",
       "    .dataframe thead th {\n",
       "        text-align: right;\n",
       "    }\n",
       "</style>\n",
       "<table border=\"1\" class=\"dataframe\">\n",
       "  <thead>\n",
       "    <tr style=\"text-align: right;\">\n",
       "      <th></th>\n",
       "      <th>tweet_id</th>\n",
       "      <th>author_id</th>\n",
       "      <th>inbound</th>\n",
       "      <th>created_at</th>\n",
       "      <th>text</th>\n",
       "      <th>response_tweet_id</th>\n",
       "      <th>in_response_to_tweet_id</th>\n",
       "    </tr>\n",
       "  </thead>\n",
       "  <tbody>\n",
       "    <tr>\n",
       "      <th>0</th>\n",
       "      <td>1</td>\n",
       "      <td>sprintcare</td>\n",
       "      <td>False</td>\n",
       "      <td>Tue Oct 31 22:10:47 +0000 2017</td>\n",
       "      <td>@115712 I understand. I would like to assist y...</td>\n",
       "      <td>2</td>\n",
       "      <td>3.0</td>\n",
       "    </tr>\n",
       "    <tr>\n",
       "      <th>1</th>\n",
       "      <td>2</td>\n",
       "      <td>115712</td>\n",
       "      <td>True</td>\n",
       "      <td>Tue Oct 31 22:11:45 +0000 2017</td>\n",
       "      <td>@sprintcare and how do you propose we do that</td>\n",
       "      <td>NaN</td>\n",
       "      <td>1.0</td>\n",
       "    </tr>\n",
       "    <tr>\n",
       "      <th>2</th>\n",
       "      <td>3</td>\n",
       "      <td>115712</td>\n",
       "      <td>True</td>\n",
       "      <td>Tue Oct 31 22:08:27 +0000 2017</td>\n",
       "      <td>@sprintcare I have sent several private messag...</td>\n",
       "      <td>1</td>\n",
       "      <td>4.0</td>\n",
       "    </tr>\n",
       "    <tr>\n",
       "      <th>3</th>\n",
       "      <td>4</td>\n",
       "      <td>sprintcare</td>\n",
       "      <td>False</td>\n",
       "      <td>Tue Oct 31 21:54:49 +0000 2017</td>\n",
       "      <td>@115712 Please send us a Private Message so th...</td>\n",
       "      <td>3</td>\n",
       "      <td>5.0</td>\n",
       "    </tr>\n",
       "    <tr>\n",
       "      <th>4</th>\n",
       "      <td>5</td>\n",
       "      <td>115712</td>\n",
       "      <td>True</td>\n",
       "      <td>Tue Oct 31 21:49:35 +0000 2017</td>\n",
       "      <td>@sprintcare I did.</td>\n",
       "      <td>4</td>\n",
       "      <td>6.0</td>\n",
       "    </tr>\n",
       "  </tbody>\n",
       "</table>\n",
       "</div>"
      ],
      "text/plain": [
       "   tweet_id   author_id  inbound                      created_at  \\\n",
       "0         1  sprintcare    False  Tue Oct 31 22:10:47 +0000 2017   \n",
       "1         2      115712     True  Tue Oct 31 22:11:45 +0000 2017   \n",
       "2         3      115712     True  Tue Oct 31 22:08:27 +0000 2017   \n",
       "3         4  sprintcare    False  Tue Oct 31 21:54:49 +0000 2017   \n",
       "4         5      115712     True  Tue Oct 31 21:49:35 +0000 2017   \n",
       "\n",
       "                                                text response_tweet_id  \\\n",
       "0  @115712 I understand. I would like to assist y...                 2   \n",
       "1      @sprintcare and how do you propose we do that               NaN   \n",
       "2  @sprintcare I have sent several private messag...                 1   \n",
       "3  @115712 Please send us a Private Message so th...                 3   \n",
       "4                                 @sprintcare I did.                 4   \n",
       "\n",
       "   in_response_to_tweet_id  \n",
       "0                      3.0  \n",
       "1                      1.0  \n",
       "2                      4.0  \n",
       "3                      5.0  \n",
       "4                      6.0  "
      ]
     },
     "execution_count": 4,
     "metadata": {},
     "output_type": "execute_result"
    }
   ],
   "source": [
    "# read data\n",
    "df = pd.read_csv('../input/customer-support-on-twitter/twcs/twcs.csv')\n",
    "df.head()"
   ]
  },
  {
   "cell_type": "markdown",
   "metadata": {
    "id": "H3oziUaIoika",
    "papermill": {
     "duration": 0.020763,
     "end_time": "2020-12-30T08:25:58.804271",
     "exception": false,
     "start_time": "2020-12-30T08:25:58.783508",
     "status": "completed"
    },
    "tags": []
   },
   "source": [
    "### Data Preprocessing"
   ]
  },
  {
   "cell_type": "code",
   "execution_count": 5,
   "metadata": {
    "execution": {
     "iopub.execute_input": "2020-12-30T08:25:58.852662Z",
     "iopub.status.busy": "2020-12-30T08:25:58.851596Z",
     "iopub.status.idle": "2020-12-30T08:26:14.149395Z",
     "shell.execute_reply": "2020-12-30T08:26:14.147968Z"
    },
    "id": "qbpWZTsskQaB",
    "papermill": {
     "duration": 15.324402,
     "end_time": "2020-12-30T08:26:14.149536",
     "exception": false,
     "start_time": "2020-12-30T08:25:58.825134",
     "status": "completed"
    },
    "tags": []
   },
   "outputs": [],
   "source": [
    "\n",
    "# Get tweets that are first inbound tweets to companies\n",
    "first_inbound = df[pd.isnull(df.in_response_to_tweet_id) & df.inbound]\n",
    "\n",
    "# Get replies for first inbound tweets\n",
    "inbound_and_replies = pd.merge(first_inbound, df, left_on='tweet_id', right_on='in_response_to_tweet_id')\n",
    "\n",
    "# Remove replies that aren't from companies\n",
    "inbound_and_replies = inbound_and_replies[inbound_and_replies.inbound_y ^ True]\n",
    "\n",
    "# Replace carriage returns\n",
    "inbound_and_replies = inbound_and_replies.replace('\\r', '', regex=True)"
   ]
  },
  {
   "cell_type": "code",
   "execution_count": 6,
   "metadata": {
    "execution": {
     "iopub.execute_input": "2020-12-30T08:26:14.200278Z",
     "iopub.status.busy": "2020-12-30T08:26:14.198677Z",
     "iopub.status.idle": "2020-12-30T08:26:14.554372Z",
     "shell.execute_reply": "2020-12-30T08:26:14.554857Z"
    },
    "id": "x-8uhRF_kfMq",
    "outputId": "c8881456-66a2-41f4-d169-c9669bfc0f0d",
    "papermill": {
     "duration": 0.383382,
     "end_time": "2020-12-30T08:26:14.554989",
     "exception": false,
     "start_time": "2020-12-30T08:26:14.171607",
     "status": "completed"
    },
    "tags": []
   },
   "outputs": [
    {
     "data": {
      "text/html": [
       "<div>\n",
       "<style scoped>\n",
       "    .dataframe tbody tr th:only-of-type {\n",
       "        vertical-align: middle;\n",
       "    }\n",
       "\n",
       "    .dataframe tbody tr th {\n",
       "        vertical-align: top;\n",
       "    }\n",
       "\n",
       "    .dataframe thead th {\n",
       "        text-align: right;\n",
       "    }\n",
       "</style>\n",
       "<table border=\"1\" class=\"dataframe\">\n",
       "  <thead>\n",
       "    <tr style=\"text-align: right;\">\n",
       "      <th></th>\n",
       "      <th>tweet</th>\n",
       "      <th>response</th>\n",
       "    </tr>\n",
       "  </thead>\n",
       "  <tbody>\n",
       "    <tr>\n",
       "      <th>0</th>\n",
       "      <td>@sprintcare is the worst customer service</td>\n",
       "      <td>@115712 Can you please send us a private messa...</td>\n",
       "    </tr>\n",
       "    <tr>\n",
       "      <th>1</th>\n",
       "      <td>@sprintcare is the worst customer service</td>\n",
       "      <td>@115712 I would love the chance to review the ...</td>\n",
       "    </tr>\n",
       "    <tr>\n",
       "      <th>2</th>\n",
       "      <td>@sprintcare is the worst customer service</td>\n",
       "      <td>@115712 Hello! We never like our customers to ...</td>\n",
       "    </tr>\n",
       "    <tr>\n",
       "      <th>3</th>\n",
       "      <td>@115714 y’all lie about your “great” connectio...</td>\n",
       "      <td>@115713 H there! We'd definitely like to work ...</td>\n",
       "    </tr>\n",
       "    <tr>\n",
       "      <th>4</th>\n",
       "      <td>@115714 whenever I contact customer support, t...</td>\n",
       "      <td>@115715 Please send me a private message so th...</td>\n",
       "    </tr>\n",
       "  </tbody>\n",
       "</table>\n",
       "</div>"
      ],
      "text/plain": [
       "                                               tweet  \\\n",
       "0          @sprintcare is the worst customer service   \n",
       "1          @sprintcare is the worst customer service   \n",
       "2          @sprintcare is the worst customer service   \n",
       "3  @115714 y’all lie about your “great” connectio...   \n",
       "4  @115714 whenever I contact customer support, t...   \n",
       "\n",
       "                                            response  \n",
       "0  @115712 Can you please send us a private messa...  \n",
       "1  @115712 I would love the chance to review the ...  \n",
       "2  @115712 Hello! We never like our customers to ...  \n",
       "3  @115713 H there! We'd definitely like to work ...  \n",
       "4  @115715 Please send me a private message so th...  "
      ]
     },
     "execution_count": 6,
     "metadata": {},
     "output_type": "execute_result"
    }
   ],
   "source": [
    "# Extract inbound tweets and responses\n",
    "tweets = inbound_and_replies[['text_x', 'text_y']]\n",
    "tweets.columns = ['tweet', 'response']\n",
    "tweets.head()"
   ]
  },
  {
   "cell_type": "code",
   "execution_count": 7,
   "metadata": {
    "execution": {
     "iopub.execute_input": "2020-12-30T08:26:14.602990Z",
     "iopub.status.busy": "2020-12-30T08:26:14.602184Z",
     "iopub.status.idle": "2020-12-30T08:26:14.605529Z",
     "shell.execute_reply": "2020-12-30T08:26:14.606053Z"
    },
    "id": "Yaa5j6hrkf4B",
    "outputId": "aae91d62-6d45-4da2-98fa-06a844ad5b09",
    "papermill": {
     "duration": 0.029376,
     "end_time": "2020-12-30T08:26:14.606162",
     "exception": false,
     "start_time": "2020-12-30T08:26:14.576786",
     "status": "completed"
    },
    "tags": []
   },
   "outputs": [
    {
     "data": {
      "text/plain": [
       "(794299, 2)"
      ]
     },
     "execution_count": 7,
     "metadata": {},
     "output_type": "execute_result"
    }
   ],
   "source": [
    "tweets.shape"
   ]
  },
  {
   "cell_type": "code",
   "execution_count": 8,
   "metadata": {
    "execution": {
     "iopub.execute_input": "2020-12-30T08:26:14.655208Z",
     "iopub.status.busy": "2020-12-30T08:26:14.654623Z",
     "iopub.status.idle": "2020-12-30T08:26:16.348505Z",
     "shell.execute_reply": "2020-12-30T08:26:16.346950Z"
    },
    "id": "tuoI96ugkzFP",
    "papermill": {
     "duration": 1.720298,
     "end_time": "2020-12-30T08:26:16.348625",
     "exception": false,
     "start_time": "2020-12-30T08:26:14.628327",
     "status": "completed"
    },
    "tags": []
   },
   "outputs": [],
   "source": [
    "tweets.head(100_000).to_csv(\"tweets.tsv\", index=False, sep='\\t')"
   ]
  },
  {
   "cell_type": "code",
   "execution_count": 9,
   "metadata": {
    "execution": {
     "iopub.execute_input": "2020-12-30T08:26:16.400351Z",
     "iopub.status.busy": "2020-12-30T08:26:16.399510Z",
     "iopub.status.idle": "2020-12-30T08:26:20.581987Z",
     "shell.execute_reply": "2020-12-30T08:26:20.581428Z"
    },
    "id": "RZYLvC9nk-f_",
    "papermill": {
     "duration": 4.210279,
     "end_time": "2020-12-30T08:26:20.582140",
     "exception": false,
     "start_time": "2020-12-30T08:26:16.371861",
     "status": "completed"
    },
    "tags": []
   },
   "outputs": [
    {
     "name": "stderr",
     "output_type": "stream",
     "text": [
      "/opt/conda/lib/python3.7/site-packages/torchtext/data/field.py:150: UserWarning: Field class will be retired soon and moved to torchtext.legacy. Please see the most recent release notes for further information.\n",
      "  warnings.warn('{} class will be retired soon and moved to torchtext.legacy. Please see the most recent release notes for further information.'.format(self.__class__.__name__), UserWarning)\n"
     ]
    }
   ],
   "source": [
    "# Use same field for both columns since they have a shared vocabulary\n",
    "TWEET = torchtext.data.Field(\n",
    "    tokenize='spacy',\n",
    "    lower=True,\n",
    "    init_token='<sos>', \n",
    "    eos_token='<eos>'\n",
    ")\n",
    "\n",
    "fields = [('tweet', TWEET), ('response', TWEET)]"
   ]
  },
  {
   "cell_type": "code",
   "execution_count": 10,
   "metadata": {
    "execution": {
     "iopub.execute_input": "2020-12-30T08:26:20.636270Z",
     "iopub.status.busy": "2020-12-30T08:26:20.635412Z",
     "iopub.status.idle": "2020-12-30T08:27:12.994866Z",
     "shell.execute_reply": "2020-12-30T08:27:12.995543Z"
    },
    "id": "bXS9kC_flHHr",
    "outputId": "dab5d90c-c5a5-4ad1-ab6c-1f757b35242d",
    "papermill": {
     "duration": 52.389178,
     "end_time": "2020-12-30T08:27:12.995682",
     "exception": false,
     "start_time": "2020-12-30T08:26:20.606504",
     "status": "completed"
    },
    "tags": []
   },
   "outputs": [
    {
     "name": "stderr",
     "output_type": "stream",
     "text": [
      "/opt/conda/lib/python3.7/site-packages/torchtext/data/example.py:68: UserWarning: Example class will be retired soon and moved to torchtext.legacy. Please see the most recent release notes for further information.\n",
      "  warnings.warn('Example class will be retired soon and moved to torchtext.legacy. Please see the most recent release notes for further information.', UserWarning)\n",
      "/opt/conda/lib/python3.7/site-packages/torchtext/data/example.py:78: UserWarning: Example class will be retired soon and moved to torchtext.legacy. Please see the most recent release notes for further information.\n",
      "  warnings.warn('Example class will be retired soon and moved to torchtext.legacy. Please see the most recent release notes for further information.', UserWarning)\n"
     ]
    },
    {
     "name": "stdout",
     "output_type": "stream",
     "text": [
      "CPU times: user 51.6 s, sys: 463 ms, total: 52 s\n",
      "Wall time: 52.3 s\n"
     ]
    }
   ],
   "source": [
    "%%time\n",
    "# Create dataset\n",
    "dataset = torchtext.data.TabularDataset(\n",
    "    path='tweets.tsv',\n",
    "    format='TSV',\n",
    "    fields=fields,\n",
    "    skip_header=True\n",
    ")"
   ]
  },
  {
   "cell_type": "code",
   "execution_count": 11,
   "metadata": {
    "execution": {
     "iopub.execute_input": "2020-12-30T08:27:13.060994Z",
     "iopub.status.busy": "2020-12-30T08:27:13.050731Z",
     "iopub.status.idle": "2020-12-30T08:27:13.208275Z",
     "shell.execute_reply": "2020-12-30T08:27:13.207754Z"
    },
    "id": "ePBnBNoPnmJb",
    "outputId": "56fc3f2f-e511-4af8-84fe-5805d45b149c",
    "papermill": {
     "duration": 0.188955,
     "end_time": "2020-12-30T08:27:13.208382",
     "exception": false,
     "start_time": "2020-12-30T08:27:13.019427",
     "status": "completed"
    },
    "tags": []
   },
   "outputs": [
    {
     "name": "stdout",
     "output_type": "stream",
     "text": [
      "85000 15000\n"
     ]
    }
   ],
   "source": [
    "# Train/val split\n",
    "(train, valid) = dataset.split(split_ratio=[0.85, 0.15])\n",
    "print(len(train), len(valid))"
   ]
  },
  {
   "cell_type": "code",
   "execution_count": 12,
   "metadata": {
    "execution": {
     "iopub.execute_input": "2020-12-30T08:27:13.331591Z",
     "iopub.status.busy": "2020-12-30T08:27:13.295558Z",
     "iopub.status.idle": "2020-12-30T08:27:15.093611Z",
     "shell.execute_reply": "2020-12-30T08:27:15.094176Z"
    },
    "id": "gt8wSubslLH2",
    "outputId": "099051c1-412c-4a66-a2c0-e31d52e013dc",
    "papermill": {
     "duration": 1.861538,
     "end_time": "2020-12-30T08:27:15.094332",
     "exception": false,
     "start_time": "2020-12-30T08:27:13.232794",
     "status": "completed"
    },
    "tags": []
   },
   "outputs": [
    {
     "name": "stdout",
     "output_type": "stream",
     "text": [
      "Size of vocab: 10004\n"
     ]
    }
   ],
   "source": [
    "MAX_VOCAB_SIZE = 10_000\n",
    "\n",
    "TWEET.build_vocab(train, max_size=MAX_VOCAB_SIZE)\n",
    "\n",
    "print(f'Size of vocab: {len(TWEET.vocab)}')"
   ]
  },
  {
   "cell_type": "code",
   "execution_count": 13,
   "metadata": {
    "execution": {
     "iopub.execute_input": "2020-12-30T08:27:15.153125Z",
     "iopub.status.busy": "2020-12-30T08:27:15.152403Z",
     "iopub.status.idle": "2020-12-30T08:27:15.155980Z",
     "shell.execute_reply": "2020-12-30T08:27:15.156462Z"
    },
    "id": "Q6o7CoWJmV0J",
    "outputId": "60e378e8-9c5f-4e77-f221-d794a4a94f96",
    "papermill": {
     "duration": 0.036974,
     "end_time": "2020-12-30T08:27:15.156577",
     "exception": false,
     "start_time": "2020-12-30T08:27:15.119603",
     "status": "completed"
    },
    "tags": []
   },
   "outputs": [
    {
     "data": {
      "text/plain": [
       "device(type='cuda')"
      ]
     },
     "execution_count": 13,
     "metadata": {},
     "output_type": "execute_result"
    }
   ],
   "source": [
    "device = torch.device('cuda' if torch.cuda.is_available() else 'cpu')\n",
    "device"
   ]
  },
  {
   "cell_type": "code",
   "execution_count": 14,
   "metadata": {
    "execution": {
     "iopub.execute_input": "2020-12-30T08:27:15.215605Z",
     "iopub.status.busy": "2020-12-30T08:27:15.214520Z",
     "iopub.status.idle": "2020-12-30T08:27:15.220797Z",
     "shell.execute_reply": "2020-12-30T08:27:15.220252Z"
    },
    "id": "aoxdvzMvmZDW",
    "papermill": {
     "duration": 0.038407,
     "end_time": "2020-12-30T08:27:15.220898",
     "exception": false,
     "start_time": "2020-12-30T08:27:15.182491",
     "status": "completed"
    },
    "tags": []
   },
   "outputs": [
    {
     "name": "stderr",
     "output_type": "stream",
     "text": [
      "/opt/conda/lib/python3.7/site-packages/torchtext/data/iterator.py:48: UserWarning: BucketIterator class will be retired soon and moved to torchtext.legacy. Please see the most recent release notes for further information.\n",
      "  warnings.warn('{} class will be retired soon and moved to torchtext.legacy. Please see the most recent release notes for further information.'.format(self.__class__.__name__), UserWarning)\n"
     ]
    }
   ],
   "source": [
    "BATCH_SIZE = 128\n",
    "\n",
    "train_iterator, valid_iterator = torchtext.data.BucketIterator.splits(\n",
    "    (train, valid),\n",
    "    batch_size = BATCH_SIZE,\n",
    "    sort_key=lambda x: len(x.tweet),\n",
    "    device = device\n",
    ")"
   ]
  },
  {
   "cell_type": "markdown",
   "metadata": {
    "id": "YPKqzubJousR",
    "papermill": {
     "duration": 0.057898,
     "end_time": "2020-12-30T08:27:15.305007",
     "exception": false,
     "start_time": "2020-12-30T08:27:15.247109",
     "status": "completed"
    },
    "tags": []
   },
   "source": [
    "### Encoder, Decoder, Seq2Seq"
   ]
  },
  {
   "cell_type": "code",
   "execution_count": 15,
   "metadata": {
    "execution": {
     "iopub.execute_input": "2020-12-30T08:27:15.373699Z",
     "iopub.status.busy": "2020-12-30T08:27:15.372933Z",
     "iopub.status.idle": "2020-12-30T08:27:15.377035Z",
     "shell.execute_reply": "2020-12-30T08:27:15.376504Z"
    },
    "id": "7L0omhe2mcwv",
    "papermill": {
     "duration": 0.046327,
     "end_time": "2020-12-30T08:27:15.377126",
     "exception": false,
     "start_time": "2020-12-30T08:27:15.330799",
     "status": "completed"
    },
    "tags": []
   },
   "outputs": [],
   "source": [
    "# Encoder \n",
    "class Encoder(nn.Module):\n",
    "    def __init__(self, input_dim, emb_dim, hid_dim, dropout):\n",
    "\n",
    "        super().__init__()\n",
    "        self.hid_dim = hid_dim\n",
    "        self.embedding = nn.Embedding(input_dim, emb_dim) #no dropout as only one layer!\n",
    "        self.rnn = nn.GRU(emb_dim, hid_dim)\n",
    "        self.dropout = nn.Dropout(dropout)\n",
    "        \n",
    "    def forward(self, src):\n",
    "        #src = [src len, batch size]\n",
    "        \n",
    "        embedded = self.dropout(self.embedding(src))\n",
    "        #embedded = [src len, batch size, emb dim]\n",
    "        outputs, hidden = self.rnn(embedded) #no cell state!\n",
    "        #outputs = [src len, batch size, hid dim * n directions]\n",
    "        #hidden = [n layers * n directions, batch size, hid dim]\n",
    "        #outputs are always from the top hidden layer\n",
    "        return hidden\n",
    "\n",
    "\n",
    "# Decoder\n",
    "class Decoder(nn.Module):\n",
    "    def __init__(self, output_dim, emb_dim, hid_dim, dropout):\n",
    "        super().__init__()\n",
    "        self.hid_dim = hid_dim\n",
    "        self.output_dim = output_dim\n",
    "\n",
    "        self.embedding = nn.Embedding(output_dim, emb_dim)\n",
    "        \n",
    "        self.rnn = nn.GRU(emb_dim + hid_dim, hid_dim)\n",
    "        \n",
    "        self.fc_out = nn.Linear(emb_dim + hid_dim * 2, output_dim)\n",
    "        \n",
    "        self.dropout = nn.Dropout(dropout)\n",
    "        \n",
    "    def forward(self, input, hidden, context):\n",
    "        \n",
    "        #input = [batch size]\n",
    "        #hidden = [n layers * n directions, batch size, hid dim]\n",
    "        #context = [n layers * n directions, batch size, hid dim]\n",
    "        \n",
    "        #n layers and n directions in the decoder will both always be 1, therefore:\n",
    "        #hidden = [1, batch size, hid dim]\n",
    "        #context = [1, batch size, hid dim]\n",
    "        \n",
    "        input = input.unsqueeze(0)\n",
    "        \n",
    "        #input = [1, batch size]\n",
    "        \n",
    "        embedded = self.dropout(self.embedding(input))\n",
    "        \n",
    "        #embedded = [1, batch size, emb dim]\n",
    "                \n",
    "        emb_con = torch.cat((embedded, context), dim = 2)\n",
    "            \n",
    "        #emb_con = [1, batch size, emb dim + hid dim]\n",
    "            \n",
    "        output, hidden = self.rnn(emb_con, hidden)\n",
    "        \n",
    "        #output = [seq len, batch size, hid dim * n directions]\n",
    "        #hidden = [n layers * n directions, batch size, hid dim]\n",
    "        \n",
    "        #seq len, n layers and n directions will always be 1 in the decoder, therefore:\n",
    "        #output = [1, batch size, hid dim]\n",
    "        #hidden = [1, batch size, hid dim]\n",
    "        \n",
    "        output = torch.cat((embedded.squeeze(0), hidden.squeeze(0), context.squeeze(0)), \n",
    "                           dim = 1)\n",
    "        \n",
    "        #output = [batch size, emb dim + hid dim * 2]\n",
    "        \n",
    "        prediction = self.fc_out(output)\n",
    "        \n",
    "        #prediction = [batch size, output dim]\n",
    "        \n",
    "        return prediction, hidden"
   ]
  },
  {
   "cell_type": "code",
   "execution_count": 16,
   "metadata": {
    "execution": {
     "iopub.execute_input": "2020-12-30T08:27:15.440741Z",
     "iopub.status.busy": "2020-12-30T08:27:15.440010Z",
     "iopub.status.idle": "2020-12-30T08:27:15.443200Z",
     "shell.execute_reply": "2020-12-30T08:27:15.443633Z"
    },
    "id": "e0RLuCDUnKHw",
    "papermill": {
     "duration": 0.04066,
     "end_time": "2020-12-30T08:27:15.443754",
     "exception": false,
     "start_time": "2020-12-30T08:27:15.403094",
     "status": "completed"
    },
    "tags": []
   },
   "outputs": [],
   "source": [
    "# Seq2Seq\n",
    "class Seq2Seq(nn.Module):\n",
    "    def __init__(self, encoder, decoder, device):\n",
    "        super().__init__()\n",
    "        \n",
    "        self.encoder = encoder\n",
    "        self.decoder = decoder\n",
    "        self.device = device\n",
    "        \n",
    "        assert encoder.hid_dim == decoder.hid_dim, \\\n",
    "            \"Hidden dimensions of encoder and decoder must be equal!\"\n",
    "        \n",
    "    def forward(self, src, trg, teacher_forcing_ratio = 0.5):\n",
    "        \n",
    "        #src = [src len, batch size]\n",
    "        #trg = [trg len, batch size]\n",
    "        #teacher_forcing_ratio is probability to use teacher forcing\n",
    "        #e.g. if teacher_forcing_ratio is 0.75 we use ground-truth inputs 75% of the time\n",
    "        \n",
    "        batch_size = trg.shape[1]\n",
    "        trg_len = trg.shape[0]\n",
    "        trg_vocab_size = self.decoder.output_dim\n",
    "        \n",
    "        #tensor to store decoder outputs\n",
    "        outputs = torch.zeros(trg_len, batch_size, trg_vocab_size).to(self.device)\n",
    "        \n",
    "        #last hidden state of the encoder is the context\n",
    "        context = self.encoder(src)\n",
    "        \n",
    "        #context also used as the initial hidden state of the decoder\n",
    "        hidden = context\n",
    "        \n",
    "        #first input to the decoder is the <sos> tokens\n",
    "        input = trg[0,:]\n",
    "        \n",
    "        for t in range(1, trg_len):\n",
    "            \n",
    "            #insert input token embedding, previous hidden state and the context state\n",
    "            #receive output tensor (predictions) and new hidden state\n",
    "            output, hidden = self.decoder(input, hidden, context)\n",
    "            \n",
    "            #place predictions in a tensor holding predictions for each token\n",
    "            outputs[t] = output\n",
    "            \n",
    "            #decide if we are going to use teacher forcing or not\n",
    "            teacher_force = random.random() < teacher_forcing_ratio\n",
    "            \n",
    "            #get the highest predicted token from our predictions\n",
    "            top1 = output.argmax(1) \n",
    "            \n",
    "            #if teacher forcing, use actual next token as next input\n",
    "            #if not, use predicted token\n",
    "            input = trg[t] if teacher_force else top1\n",
    "\n",
    "        return outputs"
   ]
  },
  {
   "cell_type": "markdown",
   "metadata": {
    "id": "7HLeX2KAr-m9",
    "papermill": {
     "duration": 0.025975,
     "end_time": "2020-12-30T08:27:15.495608",
     "exception": false,
     "start_time": "2020-12-30T08:27:15.469633",
     "status": "completed"
    },
    "tags": []
   },
   "source": [
    "### Training the Seq2Seq Model"
   ]
  },
  {
   "cell_type": "code",
   "execution_count": 17,
   "metadata": {
    "execution": {
     "iopub.execute_input": "2020-12-30T08:27:15.554809Z",
     "iopub.status.busy": "2020-12-30T08:27:15.554054Z",
     "iopub.status.idle": "2020-12-30T08:27:20.490435Z",
     "shell.execute_reply": "2020-12-30T08:27:20.489839Z"
    },
    "id": "GPcRNqVtnUUq",
    "papermill": {
     "duration": 4.969252,
     "end_time": "2020-12-30T08:27:20.490561",
     "exception": false,
     "start_time": "2020-12-30T08:27:15.521309",
     "status": "completed"
    },
    "tags": []
   },
   "outputs": [],
   "source": [
    "INPUT_DIM = len(TWEET.vocab)\n",
    "OUTPUT_DIM = len(TWEET.vocab)\n",
    "ENC_EMB_DIM = 128\n",
    "DEC_EMB_DIM = 128\n",
    "HID_DIM = 256\n",
    "ENC_DROPOUT = 0.5\n",
    "DEC_DROPOUT = 0.5\n",
    "\n",
    "enc = Encoder(INPUT_DIM, ENC_EMB_DIM, HID_DIM, ENC_DROPOUT)\n",
    "dec = Decoder(OUTPUT_DIM, DEC_EMB_DIM, HID_DIM, DEC_DROPOUT)\n",
    "\n",
    "device = torch.device('cuda' if torch.cuda.is_available() else 'cpu')\n",
    "\n",
    "model = Seq2Seq(enc, dec, device).to(device)"
   ]
  },
  {
   "cell_type": "code",
   "execution_count": 18,
   "metadata": {
    "execution": {
     "iopub.execute_input": "2020-12-30T08:27:20.549341Z",
     "iopub.status.busy": "2020-12-30T08:27:20.548481Z",
     "iopub.status.idle": "2020-12-30T08:27:20.556250Z",
     "shell.execute_reply": "2020-12-30T08:27:20.555759Z"
    },
    "id": "EOmbgcJcnbpT",
    "outputId": "7f4e4298-ddb2-4ccd-ac86-97beb2bc067f",
    "papermill": {
     "duration": 0.038747,
     "end_time": "2020-12-30T08:27:20.556347",
     "exception": false,
     "start_time": "2020-12-30T08:27:20.517600",
     "status": "completed"
    },
    "tags": []
   },
   "outputs": [
    {
     "data": {
      "text/plain": [
       "Seq2Seq(\n",
       "  (encoder): Encoder(\n",
       "    (embedding): Embedding(10004, 128)\n",
       "    (rnn): GRU(128, 256)\n",
       "    (dropout): Dropout(p=0.5, inplace=False)\n",
       "  )\n",
       "  (decoder): Decoder(\n",
       "    (embedding): Embedding(10004, 128)\n",
       "    (rnn): GRU(384, 256)\n",
       "    (fc_out): Linear(in_features=640, out_features=10004, bias=True)\n",
       "    (dropout): Dropout(p=0.5, inplace=False)\n",
       "  )\n",
       ")"
      ]
     },
     "execution_count": 18,
     "metadata": {},
     "output_type": "execute_result"
    }
   ],
   "source": [
    "def init_weights(m):\n",
    "    for name, param in m.named_parameters():\n",
    "        nn.init.normal_(param.data, mean=0, std=0.01)\n",
    "        \n",
    "model.apply(init_weights)"
   ]
  },
  {
   "cell_type": "code",
   "execution_count": 19,
   "metadata": {
    "execution": {
     "iopub.execute_input": "2020-12-30T08:27:20.614844Z",
     "iopub.status.busy": "2020-12-30T08:27:20.614238Z",
     "iopub.status.idle": "2020-12-30T08:27:20.618938Z",
     "shell.execute_reply": "2020-12-30T08:27:20.618450Z"
    },
    "id": "DtfCWLwznrKI",
    "outputId": "b1c58640-dac8-4741-bab2-6589d262b12d",
    "papermill": {
     "duration": 0.036074,
     "end_time": "2020-12-30T08:27:20.619051",
     "exception": false,
     "start_time": "2020-12-30T08:27:20.582977",
     "status": "completed"
    },
    "tags": []
   },
   "outputs": [
    {
     "name": "stdout",
     "output_type": "stream",
     "text": [
      "The model has 9,763,092 trainable parameters\n"
     ]
    }
   ],
   "source": [
    "def count_parameters(model):\n",
    "    return sum(p.numel() for p in model.parameters() if p.requires_grad)\n",
    "\n",
    "print(f'The model has {count_parameters(model):,} trainable parameters')"
   ]
  },
  {
   "cell_type": "code",
   "execution_count": 20,
   "metadata": {
    "execution": {
     "iopub.execute_input": "2020-12-30T08:27:20.679414Z",
     "iopub.status.busy": "2020-12-30T08:27:20.677447Z",
     "iopub.status.idle": "2020-12-30T08:27:20.680072Z",
     "shell.execute_reply": "2020-12-30T08:27:20.680611Z"
    },
    "id": "AzGOK9yenxOR",
    "papermill": {
     "duration": 0.034823,
     "end_time": "2020-12-30T08:27:20.680724",
     "exception": false,
     "start_time": "2020-12-30T08:27:20.645901",
     "status": "completed"
    },
    "tags": []
   },
   "outputs": [],
   "source": [
    "optimizer = optim.Adam(model.parameters())"
   ]
  },
  {
   "cell_type": "code",
   "execution_count": 21,
   "metadata": {
    "execution": {
     "iopub.execute_input": "2020-12-30T08:27:20.742403Z",
     "iopub.status.busy": "2020-12-30T08:27:20.740692Z",
     "iopub.status.idle": "2020-12-30T08:27:20.743202Z",
     "shell.execute_reply": "2020-12-30T08:27:20.743679Z"
    },
    "id": "FTkuSgAjn0dd",
    "papermill": {
     "duration": 0.03607,
     "end_time": "2020-12-30T08:27:20.743782",
     "exception": false,
     "start_time": "2020-12-30T08:27:20.707712",
     "status": "completed"
    },
    "tags": []
   },
   "outputs": [],
   "source": [
    "TRG_PAD_IDX = TWEET.vocab.stoi[TWEET.pad_token]\n",
    "\n",
    "criterion = nn.CrossEntropyLoss(ignore_index = TRG_PAD_IDX)"
   ]
  },
  {
   "cell_type": "code",
   "execution_count": 22,
   "metadata": {
    "execution": {
     "iopub.execute_input": "2020-12-30T08:27:20.808771Z",
     "iopub.status.busy": "2020-12-30T08:27:20.807922Z",
     "iopub.status.idle": "2020-12-30T08:27:20.810325Z",
     "shell.execute_reply": "2020-12-30T08:27:20.810829Z"
    },
    "id": "LhBhkXdAn2mR",
    "papermill": {
     "duration": 0.039492,
     "end_time": "2020-12-30T08:27:20.810932",
     "exception": false,
     "start_time": "2020-12-30T08:27:20.771440",
     "status": "completed"
    },
    "tags": []
   },
   "outputs": [],
   "source": [
    "def train(model, iterator, optimizer, criterion, clip):\n",
    "    \n",
    "    model.train()\n",
    "    \n",
    "    epoch_loss = 0\n",
    "    \n",
    "    for i, batch in enumerate(iterator):\n",
    "        \n",
    "        src = batch.tweet\n",
    "        trg = batch.response\n",
    "        \n",
    "        optimizer.zero_grad()\n",
    "        \n",
    "        output = model(src, trg)\n",
    "        \n",
    "        #trg = [trg len, batch size]\n",
    "        #output = [trg len, batch size, output dim]\n",
    "        \n",
    "        output_dim = output.shape[-1]\n",
    "        \n",
    "        output = output[1:].view(-1, output_dim)\n",
    "        trg = trg[1:].view(-1)\n",
    "        \n",
    "        #trg = [(trg len - 1) * batch size]\n",
    "        #output = [(trg len - 1) * batch size, output dim]\n",
    "        \n",
    "        loss = criterion(output, trg)\n",
    "        \n",
    "        loss.backward()\n",
    "        \n",
    "        torch.nn.utils.clip_grad_norm_(model.parameters(), clip)\n",
    "        \n",
    "        optimizer.step()\n",
    "        \n",
    "        epoch_loss += loss.item()\n",
    "        \n",
    "    return epoch_loss / len(iterator)"
   ]
  },
  {
   "cell_type": "code",
   "execution_count": 23,
   "metadata": {
    "execution": {
     "iopub.execute_input": "2020-12-30T08:27:20.875557Z",
     "iopub.status.busy": "2020-12-30T08:27:20.874687Z",
     "iopub.status.idle": "2020-12-30T08:27:20.877631Z",
     "shell.execute_reply": "2020-12-30T08:27:20.877161Z"
    },
    "id": "TU-XvZO_n6or",
    "papermill": {
     "duration": 0.039336,
     "end_time": "2020-12-30T08:27:20.877724",
     "exception": false,
     "start_time": "2020-12-30T08:27:20.838388",
     "status": "completed"
    },
    "tags": []
   },
   "outputs": [],
   "source": [
    "def evaluate(model, iterator, criterion):\n",
    "    \n",
    "    model.eval()\n",
    "    \n",
    "    epoch_loss = 0\n",
    "    \n",
    "    with torch.no_grad():\n",
    "    \n",
    "        for i, batch in enumerate(iterator):\n",
    "\n",
    "            src = batch.tweet\n",
    "            trg = batch.response\n",
    "\n",
    "            output = model(src, trg, 0) #turn off teacher forcing\n",
    "\n",
    "            #trg = [trg len, batch size]\n",
    "            #output = [trg len, batch size, output dim]\n",
    "\n",
    "            output_dim = output.shape[-1]\n",
    "            \n",
    "            output = output[1:].view(-1, output_dim)\n",
    "            trg = trg[1:].view(-1)\n",
    "\n",
    "            #trg = [(trg len - 1) * batch size]\n",
    "            #output = [(trg len - 1) * batch size, output dim]\n",
    "\n",
    "            loss = criterion(output, trg)\n",
    "\n",
    "            epoch_loss += loss.item()\n",
    "        \n",
    "    return epoch_loss / len(iterator)"
   ]
  },
  {
   "cell_type": "code",
   "execution_count": 24,
   "metadata": {
    "execution": {
     "iopub.execute_input": "2020-12-30T08:27:20.938219Z",
     "iopub.status.busy": "2020-12-30T08:27:20.937434Z",
     "iopub.status.idle": "2020-12-30T08:27:20.940586Z",
     "shell.execute_reply": "2020-12-30T08:27:20.940118Z"
    },
    "id": "ksMD7jvBn9_H",
    "papermill": {
     "duration": 0.035306,
     "end_time": "2020-12-30T08:27:20.940677",
     "exception": false,
     "start_time": "2020-12-30T08:27:20.905371",
     "status": "completed"
    },
    "tags": []
   },
   "outputs": [],
   "source": [
    "def epoch_time(start_time, end_time):\n",
    "    elapsed_time = end_time - start_time\n",
    "    elapsed_mins = int(elapsed_time / 60)\n",
    "    elapsed_secs = int(elapsed_time - (elapsed_mins * 60))\n",
    "    return elapsed_mins, elapsed_secs"
   ]
  },
  {
   "cell_type": "code",
   "execution_count": 25,
   "metadata": {
    "execution": {
     "iopub.execute_input": "2020-12-30T08:27:21.029607Z",
     "iopub.status.busy": "2020-12-30T08:27:21.019327Z",
     "iopub.status.idle": "2020-12-30T09:20:08.296146Z",
     "shell.execute_reply": "2020-12-30T09:20:08.297339Z"
    },
    "id": "yjkmFfVsoByO",
    "papermill": {
     "duration": 3167.328962,
     "end_time": "2020-12-30T09:20:08.297568",
     "exception": false,
     "start_time": "2020-12-30T08:27:20.968606",
     "status": "completed"
    },
    "tags": []
   },
   "outputs": [
    {
     "name": "stderr",
     "output_type": "stream",
     "text": [
      "/opt/conda/lib/python3.7/site-packages/torchtext/data/batch.py:23: UserWarning: Batch class will be retired soon and moved to torchtext.legacy. Please see the most recent release notes for further information.\n",
      "  warnings.warn('{} class will be retired soon and moved to torchtext.legacy. Please see the most recent release notes for further information.'.format(self.__class__.__name__), UserWarning)\n"
     ]
    },
    {
     "name": "stdout",
     "output_type": "stream",
     "text": [
      "Epoch: 01 | Time: 5m 14s\n",
      "\tTrain Loss: 5.060 | Train PPL: 157.647\n",
      "\t Val. Loss: 5.713 |  Val. PPL: 302.784\n",
      "Epoch: 02 | Time: 5m 15s\n",
      "\tTrain Loss: 4.355 | Train PPL:  77.871\n",
      "\t Val. Loss: 5.708 |  Val. PPL: 301.332\n",
      "Epoch: 03 | Time: 5m 16s\n",
      "\tTrain Loss: 3.938 | Train PPL:  51.322\n",
      "\t Val. Loss: 5.688 |  Val. PPL: 295.379\n",
      "Epoch: 04 | Time: 5m 15s\n",
      "\tTrain Loss: 3.739 | Train PPL:  42.035\n",
      "\t Val. Loss: 5.558 |  Val. PPL: 259.240\n",
      "Epoch: 05 | Time: 5m 16s\n",
      "\tTrain Loss: 3.618 | Train PPL:  37.267\n",
      "\t Val. Loss: 5.619 |  Val. PPL: 275.513\n",
      "Epoch: 06 | Time: 5m 15s\n",
      "\tTrain Loss: 3.536 | Train PPL:  34.314\n",
      "\t Val. Loss: 5.642 |  Val. PPL: 281.944\n",
      "Epoch: 07 | Time: 5m 18s\n",
      "\tTrain Loss: 3.463 | Train PPL:  31.914\n",
      "\t Val. Loss: 5.639 |  Val. PPL: 281.127\n",
      "Epoch: 08 | Time: 5m 17s\n",
      "\tTrain Loss: 3.385 | Train PPL:  29.519\n",
      "\t Val. Loss: 5.767 |  Val. PPL: 319.490\n",
      "Epoch: 09 | Time: 5m 19s\n",
      "\tTrain Loss: 3.356 | Train PPL:  28.661\n",
      "\t Val. Loss: 5.736 |  Val. PPL: 309.711\n",
      "Epoch: 10 | Time: 5m 17s\n",
      "\tTrain Loss: 3.326 | Train PPL:  27.822\n",
      "\t Val. Loss: 5.704 |  Val. PPL: 299.986\n"
     ]
    }
   ],
   "source": [
    "N_EPOCHS = 10\n",
    "CLIP = 1\n",
    "\n",
    "best_valid_loss = float('inf')\n",
    "\n",
    "for epoch in range(N_EPOCHS):\n",
    "    \n",
    "    start_time = time.time()\n",
    "    \n",
    "    train_loss = train(model, train_iterator, optimizer, criterion, CLIP)\n",
    "    valid_loss = evaluate(model, valid_iterator, criterion)\n",
    "    \n",
    "    end_time = time.time()\n",
    "    \n",
    "    epoch_mins, epoch_secs = epoch_time(start_time, end_time)\n",
    "    \n",
    "    if valid_loss < best_valid_loss:\n",
    "        best_valid_loss = valid_loss\n",
    "        torch.save(model.state_dict(), 'tut2-model.pt')\n",
    "    \n",
    "    print(f'Epoch: {epoch+1:02} | Time: {epoch_mins}m {epoch_secs}s')\n",
    "    print(f'\\tTrain Loss: {train_loss:.3f} | Train PPL: {math.exp(train_loss):7.3f}')\n",
    "    print(f'\\t Val. Loss: {valid_loss:.3f} |  Val. PPL: {math.exp(valid_loss):7.3f}')"
   ]
  },
  {
   "cell_type": "code",
   "execution_count": 26,
   "metadata": {
    "execution": {
     "iopub.execute_input": "2020-12-30T09:20:08.366239Z",
     "iopub.status.busy": "2020-12-30T09:20:08.365606Z",
     "iopub.status.idle": "2020-12-30T09:20:08.369809Z",
     "shell.execute_reply": "2020-12-30T09:20:08.369329Z"
    },
    "id": "U1QTWKAKoKwf",
    "papermill": {
     "duration": 0.039513,
     "end_time": "2020-12-30T09:20:08.369907",
     "exception": false,
     "start_time": "2020-12-30T09:20:08.330394",
     "status": "completed"
    },
    "tags": []
   },
   "outputs": [],
   "source": [
    "# model.load_state_dict(torch.load('tut2-model.pt'))\n",
    "\n",
    "# test_loss = evaluate(model, test_iterator, criterion)\n",
    "\n",
    "# print(f'| Test Loss: {test_loss:.3f} | Test PPL: {math.exp(test_loss):7.3f} |')"
   ]
  }
 ],
 "metadata": {
  "kernelspec": {
   "display_name": "Python 3",
   "language": "python",
   "name": "python3"
  },
  "language_info": {
   "codemirror_mode": {
    "name": "ipython",
    "version": 3
   },
   "file_extension": ".py",
   "mimetype": "text/x-python",
   "name": "python",
   "nbconvert_exporter": "python",
   "pygments_lexer": "ipython3",
   "version": "3.7.6"
  },
  "papermill": {
   "duration": 3273.754866,
   "end_time": "2020-12-30T09:20:09.743733",
   "environment_variables": {},
   "exception": null,
   "input_path": "__notebook__.ipynb",
   "output_path": "__notebook__.ipynb",
   "parameters": {},
   "start_time": "2020-12-30T08:25:35.988867",
   "version": "2.1.0"
  }
 },
 "nbformat": 4,
 "nbformat_minor": 4
}
